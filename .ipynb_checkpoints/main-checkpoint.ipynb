{
 "cells": [
  {
   "cell_type": "code",
   "execution_count": 2,
   "id": "08bde56d",
   "metadata": {},
   "outputs": [],
   "source": [
    "import numpy as np \n",
    "import pandas as pd \n",
    "import os\n",
    "import matplotlib.pyplot as plt\n",
    "import csv\n",
    "import itertools\n",
    "import collections\n",
    "import pywt\n",
    "from scipy import stats\n",
    "from scipy.signal import butter, lfilter, freqz\n",
    "from sklearn.utils import resample\n",
    "from sklearn.model_selection import train_test_split\n",
    "import tensorflow.keras\n",
    "from tensorflow.keras.models import Sequential\n",
    "from tensorflow.keras.layers import Conv1D, AvgPool1D, Flatten, Dense, Dropout, Softmax\n",
    "from tensorflow.keras.optimizers import Adam \n",
    "from tensorflow.keras.utils import to_categorical\n",
    "from tensorflow.keras.utils import plot_model\n",
    "from tensorflow.keras import regularizers\n",
    "import warnings\n",
    "warnings.filterwarnings('ignore')\n",
    "%matplotlib inline"
   ]
  },
  {
   "cell_type": "code",
   "execution_count": 3,
   "id": "114f756a",
   "metadata": {},
   "outputs": [],
   "source": [
    "plt.rcParams[\"figure.figsize\"] = (30,6)\n",
    "plt.rcParams['lines.linewidth'] = 1\n",
    "plt.rcParams['lines.color'] = 'b'\n",
    "plt.rcParams['axes.grid'] = True\n",
    "#Matplot conditions"
   ]
  },
  {
   "cell_type": "code",
   "execution_count": 4,
   "id": "9994c711",
   "metadata": {},
   "outputs": [],
   "source": [
    "filepath = 'mitbih_database/'\n",
    "window_size = 180\n",
    "maximum_counting = 10000\n",
    "\n",
    "classnames = ['N', 'L', 'R', 'A', 'V']\n",
    "n_classes = len(classnames)\n",
    "count_classes = [0]*n_classes\n",
    "\n",
    "X = list()\n",
    "y = list()"
   ]
  },
  {
   "cell_type": "code",
   "execution_count": null,
   "id": "214b3322",
   "metadata": {},
   "outputs": [],
   "source": [
    "\n",
    "filenames = next(os.walk(filepath))[2]\n",
    "signaldata = list()\n",
    "annotations = list()\n",
    "filenames.sort()\n",
    "print((filenames))"
   ]
  },
  {
   "cell_type": "code",
   "execution_count": null,
   "id": "224f87c9",
   "metadata": {},
   "outputs": [],
   "source": [
    "for f in filenames:\n",
    "    # this function splits the name into the filename and its extension\n",
    "    filename, file_ext = os.path.splitext(f)\n",
    "\n",
    "    if(file_ext == '.csv'):\n",
    "        signaldata.append(filepath + filename + file_ext)\n",
    "\n",
    "    elif(file_ext == '.txt'):\n",
    "        annotations.append(filepath + filename + file_ext)"
   ]
  },
  {
   "cell_type": "code",
   "execution_count": null,
   "id": "780aa122",
   "metadata": {},
   "outputs": [],
   "source": [
    "window_size = 180\n",
    "for r in range(0, len(signaldata)):\n",
    "    signals = []\n",
    "\n",
    "    with open(signaldata[r], 'rt',) as csvfile:\n",
    "        tempstorage = csv.reader(csvfile, delimiter=',',\n",
    "                                 quotechar='|')\n",
    "        insrtindx = -1\n",
    "        for row in tempstorage:\n",
    "            if(insrtindx >= 0):\n",
    "                signals.insert(insrtindx, int(row[1]))\n",
    "            insrtindx = insrtindx+1\n",
    "\n",
    "    signals = stats.zscore(signals)\n",
    "\n",
    "    if r == 1:\n",
    "        plt_1 = plt.figure(figsize=(30, 6))\n",
    "        plt.grid()\n",
    "\n",
    "        plt.title(signaldata[1] + \" Ecg Wave\")\n",
    "\n",
    "        plt.plot(signals[0:700])\n",
    "        plt.show()\n",
    "        sc=signals\n",
    "\n",
    "    boolvar = False\n",
    "    with open(annotations[r], 'r') as fileID:\n",
    "        data = fileID.readlines()\n",
    "        beat = list()\n",
    "\n",
    "        for d in range(1, len(data)):\n",
    "            splitted = data[d].split(' ')\n",
    "            splitted = filter(None, splitted)\n",
    "            next(splitted)\n",
    "            pos = int(next(splitted))\n",
    "            class_type = next(splitted)\n",
    "            if(class_type in classnames):\n",
    "                c_ind = classnames.index(class_type)\n",
    "\n",
    "                count_classes[c_ind] += 1\n",
    "                if(window_size <= pos and pos < (len(signals) - window_size)):\n",
    "                    beat = signals[pos-window_size:pos+window_size]\n",
    "                    if r == 1 and not boolvar:\n",
    "                        plt_1 = plt.figure(figsize=(30, 6))\n",
    "                        plt.grid()\n",
    "                        plt.title(\"A Beat from \" + signaldata[1] + \" Ecg Wave\")\n",
    "                        plt.plot(beat)\n",
    "                        plt.show()\n",
    "                        boolvar = True\n",
    "\n",
    "                    X.append(beat)\n",
    "                    y.append(c_ind)\n"
   ]
  },
  {
   "cell_type": "code",
   "execution_count": null,
   "id": "1ad2c5a6",
   "metadata": {},
   "outputs": [],
   "source": [
    "for i in range(0,len(X)):\n",
    "        X[i] = np.append(X[i], y[i])\n",
    "\n",
    "print(np.shape(X))\n"
   ]
  },
  {
   "cell_type": "code",
   "execution_count": null,
   "id": "da29c584",
   "metadata": {},
   "outputs": [],
   "source": [
    "X_train_df = pd.DataFrame(X)\n",
    "per_class = X_train_df[X_train_df.shape[1]-1].value_counts()\n",
    "print(per_class)\n",
    "plt.figure(figsize=(20,10))\n",
    "my_circle=plt.Circle( (0,0), 0.7, color='white')\n",
    "explode=(0,0.1,0.1,0.1,0.1)\n",
    "plt.pie(per_class, labels=['Non-ectopic Beats', 'Left Bundle Branch Block', 'Right Bundle Branch Block', 'Atrial Premature Contraction', 'Premature Ventricular Contraction'],explode=explode, colors=['tab:blue','tab:orange','tab:purple','tab:red','tab:green'],autopct='%1.1f%%')\n",
    "plt.show()"
   ]
  },
  {
   "cell_type": "code",
   "execution_count": null,
   "id": "6f4113a6",
   "metadata": {},
   "outputs": [],
   "source": [
    "target=X_train_df.shape[1]-1\n",
    "df_0=X_train_df[X_train_df[target]==0]\n",
    "df_1=X_train_df[X_train_df[target]==1]\n",
    "df_2=X_train_df[X_train_df[target]==2]\n",
    "df_3=X_train_df[X_train_df[target]==3]\n",
    "df_4=X_train_df[X_train_df[target]==4]"
   ]
  },
  {
   "cell_type": "code",
   "execution_count": null,
   "id": "ffe95b0a",
   "metadata": {},
   "outputs": [],
   "source": [
    "countclassno=2500\n",
    "\n",
    "\n",
    "\n",
    "df_0_undersample=df_0.sample(countclassno,replace=True)\n",
    "\n",
    "df_1_undersample=df_1.sample(countclassno,replace=True)\n",
    "df_2_undersample=df_2.sample(countclassno,replace=True)\n",
    "df_3_undersample=df_3.sample(countclassno,replace=True)\n",
    "df_4_undersample=df_4.sample(countclassno,replace=True)\n",
    "\n",
    "X_train_df=pd.concat([df_0_undersample,df_1_undersample,df_2_undersample,df_3_undersample,df_4_undersample])"
   ]
  },
  {
   "cell_type": "code",
   "execution_count": null,
   "id": "3bc441f2",
   "metadata": {},
   "outputs": [],
   "source": [
    "class_dist = X_train_df[X_train_df.shape[1]-1].value_counts()\n",
    "print(class_dist)\n",
    "plt.figure(figsize=(20,10))\n",
    "\n",
    "plt.pie(class_dist, labels=['-N : Non-ectopic beats (normal beat) ', '-L : Left Bundle Branch Block ', '-R : Right Bundle Branch Block ', '-A : Atrial Premature Contraction ', '-V : Premature Ventricular Contraction'], colors=['tab:blue','tab:orange','tab:purple','tab:red','tab:green'],autopct='%1.1f%%')\n",
    "\n",
    "plt.show()"
   ]
  },
  {
   "cell_type": "code",
   "execution_count": null,
   "id": "9f999ff0",
   "metadata": {},
   "outputs": [],
   "source": [
    "train, test = train_test_split(X_train_df, test_size=0.20,random_state=45637)\n",
    "\n",
    "print(\"X_train : \", np.shape(train))\n",
    "print(\"X_test  : \", np.shape(test))"
   ]
  },
  {
   "cell_type": "code",
   "execution_count": null,
   "id": "a5728e2a",
   "metadata": {},
   "outputs": [],
   "source": [
    "target_train=train[train.shape[1]-1]\n",
    "target_test=test[test.shape[1]-1]\n",
    "train_y=to_categorical(target_train)\n",
    "test_y=to_categorical(target_test)\n",
    "print(np.shape(train_y), np.shape(test_y))"
   ]
  },
  {
   "cell_type": "code",
   "execution_count": null,
   "id": "f845c292",
   "metadata": {},
   "outputs": [],
   "source": [
    "train_x = train.iloc[:,:train.shape[1]-1].values\n",
    "test_x = test.iloc[:,:test.shape[1]-1].values\n",
    "train_x = train_x.reshape(len(train_x), train_x.shape[1],1)\n",
    "test_x = test_x.reshape(len(test_x), test_x.shape[1],1)\n",
    "print(np.shape(train_x), np.shape(test_x))"
   ]
  },
  {
   "cell_type": "code",
   "execution_count": null,
   "id": "72e2e3a8",
   "metadata": {},
   "outputs": [],
   "source": [
    "model = Sequential()\n",
    "model.add(Conv1D(filters=16, kernel_size=13, padding='same', activation='relu',input_shape=(360, 1)))\n",
    "model.add(AvgPool1D(pool_size=3, strides=2))\n",
    "model.add(Conv1D(filters=64, kernel_size=17, padding='same', activation='relu'))\n",
    "model.add(AvgPool1D(pool_size=3, strides=2))\n",
    "model.add(Conv1D(filters=128, kernel_size=19, padding='same', activation='relu'))\n",
    "model.add(AvgPool1D(pool_size=3, strides=2))\n",
    "model.add(Flatten())\n",
    "model.add(Dropout(0.5))\n",
    "model.add(Dense(35,kernel_regularizer=regularizers.l2(0.0001), bias_regularizer=regularizers.l2(0.0001)))\n",
    "model.add(Dense(5,kernel_regularizer=regularizers.l2(0.0001), bias_regularizer=regularizers.l2(0.0001)))\n",
    "model.add(Softmax())\n",
    "model.summary()"
   ]
  },
  {
   "cell_type": "code",
   "execution_count": null,
   "id": "7bff93c5",
   "metadata": {},
   "outputs": [],
   "source": [
    "model.compile(loss='categorical_crossentropy', optimizer='Adam', metrics=['accuracy'])"
   ]
  },
  {
   "cell_type": "code",
   "execution_count": null,
   "id": "2045e8da",
   "metadata": {},
   "outputs": [],
   "source": [
    "modelbase = model.fit(train_x, train_y, batch_size=36, epochs=6, verbose=1, validation_data=(test_x, test_y))"
   ]
  },
  {
   "cell_type": "code",
   "execution_count": null,
   "id": "19397f7a",
   "metadata": {},
   "outputs": [],
   "source": [
    "model.save(\"modelecg.h5\")\n",
    "print(\"Saved model to disk\")"
   ]
  },
  {
   "cell_type": "code",
   "execution_count": null,
   "id": "649b43e4",
   "metadata": {},
   "outputs": [],
   "source": [
    "plt.plot(modelbase.history['loss'])\n",
    "plt.plot(modelbase.history['val_loss'])\n",
    "plt.title('model loss')\n",
    "plt.ylabel('loss')\n",
    "plt.xlabel('epoch')\n",
    "plt.legend(['train', 'test'], loc='upper left')\n",
    "plt.show()"
   ]
  },
  {
   "cell_type": "code",
   "execution_count": null,
   "id": "608d4a9a",
   "metadata": {},
   "outputs": [],
   "source": [
    "plt.plot(modelbase.history['accuracy'])\n",
    "plt.plot(modelbase.history['val_accuracy'])\n",
    "plt.title('model accuracy')\n",
    "plt.ylabel('accuracy')\n",
    "plt.xlabel('epoch')\n",
    "plt.legend(['train', 'test'], loc='upper left')\n",
    "plt.show()"
   ]
  },
  {
   "cell_type": "code",
   "execution_count": null,
   "id": "f5fb678d",
   "metadata": {},
   "outputs": [],
   "source": []
  }
 ],
 "metadata": {
  "kernelspec": {
   "display_name": "Python 3 (ipykernel)",
   "language": "python",
   "name": "python3"
  },
  "language_info": {
   "codemirror_mode": {
    "name": "ipython",
    "version": 3
   },
   "file_extension": ".py",
   "mimetype": "text/x-python",
   "name": "python",
   "nbconvert_exporter": "python",
   "pygments_lexer": "ipython3",
   "version": "3.9.7"
  }
 },
 "nbformat": 4,
 "nbformat_minor": 5
}
