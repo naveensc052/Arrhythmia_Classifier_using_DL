{
 "cells": [
  {
   "cell_type": "code",
   "execution_count": 2,
   "id": "08bde56d",
   "metadata": {},
   "outputs": [],
   "source": [
    "import numpy as np \n",
    "import pandas as pd \n",
    "import os\n",
    "import matplotlib.pyplot as plt\n",
    "import csv\n",
    "import itertools\n",
    "import collections\n",
    "import pywt\n",
    "from scipy import stats\n",
    "from scipy.signal import butter, lfilter, freqz\n",
    "from sklearn.utils import resample\n",
    "from sklearn.model_selection import train_test_split\n",
    "import tensorflow.keras\n",
    "from tensorflow.keras.models import Sequential\n",
    "from tensorflow.keras.layers import Conv1D, AvgPool1D, Flatten, Dense, Dropout, Softmax\n",
    "from tensorflow.keras.optimizers import Adam \n",
    "from tensorflow.keras.utils import to_categorical\n",
    "from tensorflow.keras.utils import plot_model\n",
    "from tensorflow.keras import regularizers\n",
    "import warnings\n",
    "warnings.filterwarnings('ignore')\n",
    "%matplotlib inline"
   ]
  },
  {
   "cell_type": "code",
   "execution_count": 3,
   "id": "114f756a",
   "metadata": {},
   "outputs": [],
   "source": [
    "plt.rcParams[\"figure.figsize\"] = (30,6)\n",
    "plt.rcParams['lines.linewidth'] = 1\n",
    "plt.rcParams['lines.color'] = 'b'\n",
    "plt.rcParams['axes.grid'] = True\n",
    "#Matplot conditions"
   ]
  },
  {
   "cell_type": "code",
   "execution_count": 4,
   "id": "9994c711",
   "metadata": {},
   "outputs": [],
   "source": [
    "filepath = 'mitbih_database/'\n",
    "window_size = 180\n",
    "maximum_counting = 10000\n",
    "\n",
    "classnames = ['N', 'L', 'R', 'A', 'V']\n",
    "n_classes = len(classnames)\n",
    "count_classes = [0]*n_classes\n",
    "\n",
    "X = list()\n",
    "y = list()"
   ]
  },
  {
   "cell_type": "code",
   "execution_count": null,
   "id": "214b3322",
   "metadata": {},
   "outputs": [],
   "source": [
    "\n",
    "filenames = next(os.walk(filepath))[2]\n",
    "signaldata = list()\n",
    "annotations = list()\n",
    "filenames.sort()\n",
    "print((filenames))"
   ]
  },
  {
   "cell_type": "code",
   "execution_count": null,
   "id": "224f87c9",
   "metadata": {},
   "outputs": [],
   "source": [
    "for f in filenames:\n",
    "    # this function splits the name into the filename and its extension\n",
    "    filename, file_ext = os.path.splitext(f)\n",
    "\n",
    "    if(file_ext == '.csv'):\n",
    "        signaldata.append(filepath + filename + file_ext)\n",
    "\n",
    "    elif(file_ext == '.txt'):\n",
    "        annotations.append(filepath + filename + file_ext)"
   ]
  }
 ],
 "metadata": {
  "kernelspec": {
   "display_name": "Python 3 (ipykernel)",
   "language": "python",
   "name": "python3"
  },
  "language_info": {
   "codemirror_mode": {
    "name": "ipython",
    "version": 3
   },
   "file_extension": ".py",
   "mimetype": "text/x-python",
   "name": "python",
   "nbconvert_exporter": "python",
   "pygments_lexer": "ipython3",
   "version": "3.8.13"
  }
 },
 "nbformat": 4,
 "nbformat_minor": 5
}
